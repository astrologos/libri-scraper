{
  "cells": [
    {
      "cell_type": "markdown",
      "metadata": {
        "id": "view-in-github",
        "colab_type": "text"
      },
      "source": [
        "<a href=\"https://colab.research.google.com/github/astrologos/libri-scraper/blob/main/Libri_Scraper.ipynb\" target=\"_parent\"><img src=\"https://colab.research.google.com/assets/colab-badge.svg\" alt=\"Open In Colab\"/></a>"
      ]
    },
    {
      "cell_type": "markdown",
      "source": [
        "# Public Audiobook Scraper\n",
        "The Public Audiobook Scraper downloads full audiobook MP3's from LibriVox.org.  It is meant to assist in building an labeled speech dataset for use in training neural Text-To-Speech systems in conjunction with Automatic Speech Recognition models."
      ],
      "metadata": {
        "id": "BUViiXtHVHsR"
      }
    },
    {
      "cell_type": "markdown",
      "source": [
        "## Mount Google Drive"
      ],
      "metadata": {
        "id": "_aghvTzOZ1CS"
      }
    },
    {
      "cell_type": "code",
      "source": [
        "import os\n",
        "from google.colab import drive\n",
        "nb_dir = '/content/drive/MyDrive/COLAB/Pub-Audiobook-Scraper'\n",
        "drive.mount('/content/drive/',force_remount=True)\n",
        "if not os.path.exists(nb_dir):\n",
        "    os.makedirs(nb_dir)\n",
        "os.chdir(nb_dir)\n",
        "print('Current path: ' + os.getcwd())"
      ],
      "metadata": {
        "colab": {
          "base_uri": "https://localhost:8080/"
        },
        "id": "cZFyfBaYZ2iQ",
        "outputId": "409bbe12-514d-4c1f-9f7e-b0baa26ae42c"
      },
      "execution_count": 17,
      "outputs": [
        {
          "output_type": "stream",
          "name": "stdout",
          "text": [
            "Mounted at /content/drive/\n",
            "Current path: /content/drive/MyDrive/COLAB/Pub-Audiobook-Scraper\n"
          ]
        }
      ]
    },
    {
      "cell_type": "markdown",
      "source": [
        "## Install Chromium and Selenium"
      ],
      "metadata": {
        "id": "vY0hfDhuWG6O"
      }
    },
    {
      "cell_type": "code",
      "source": [
        "# Install Chromium\n",
        "%%shell\n",
        "# Add debian buster\n",
        "cat > /etc/apt/sources.list.d/debian.list <<'EOF'\n",
        "deb [arch=amd64 signed-by=/usr/share/keyrings/debian-buster.gpg] http://deb.debian.org/debian buster main\n",
        "deb [arch=amd64 signed-by=/usr/share/keyrings/debian-buster-updates.gpg] http://deb.debian.org/debian buster-updates main\n",
        "deb [arch=amd64 signed-by=/usr/share/keyrings/debian-security-buster.gpg] http://deb.debian.org/debian-security buster/updates main\n",
        "EOF\n",
        "\n",
        "# Add keys\n",
        "apt-key adv --keyserver keyserver.ubuntu.com --recv-keys DCC9EFBF77E11517\n",
        "apt-key adv --keyserver keyserver.ubuntu.com --recv-keys 648ACFD622F3D138\n",
        "apt-key adv --keyserver keyserver.ubuntu.com --recv-keys 112695A0E562B32A\n",
        "\n",
        "apt-key export 77E11517 | gpg --dearmour -o /usr/share/keyrings/debian-buster.gpg\n",
        "apt-key export 22F3D138 | gpg --dearmour -o /usr/share/keyrings/debian-buster-updates.gpg\n",
        "apt-key export E562B32A | gpg --dearmour -o /usr/share/keyrings/debian-security-buster.gpg\n",
        "\n",
        "# Prefer debian repo for chromium* packages only\n",
        "# Note the double-blank lines between entries\n",
        "cat > /etc/apt/preferences.d/chromium.pref << 'EOF'\n",
        "Package: *\n",
        "Pin: release a=eoan\n",
        "Pin-Priority: 500\n",
        "\n",
        "\n",
        "Package: *\n",
        "Pin: origin \"deb.debian.org\"\n",
        "Pin-Priority: 300\n",
        "\n",
        "\n",
        "Package: chromium*\n",
        "Pin: origin \"deb.debian.org\"\n",
        "Pin-Priority: 700\n",
        "EOF\n",
        "\n",
        "\n",
        "apt-get update\n",
        "apt-get install -qq chromium chromium-driver\n",
        "pip install -q selenium"
      ],
      "metadata": {
        "id": "7kZzA0G9PQ7V"
      },
      "execution_count": null,
      "outputs": []
    },
    {
      "cell_type": "markdown",
      "source": [
        "## Imports"
      ],
      "metadata": {
        "id": "SMPAnfV5W6VQ"
      }
    },
    {
      "cell_type": "code",
      "source": [
        "# System\n",
        "import sys\n",
        "import numpy.random as rand\n",
        "import time\n",
        "\n",
        "# IO\n",
        "import pickle\n",
        "from tqdm.notebook import tqdm\n",
        "import zipfile\n",
        "\n",
        "# Web\n",
        "from selenium import webdriver\n",
        "from selenium.webdriver.chrome.service import Service\n",
        "from selenium.webdriver.common.by import By\n",
        "from selenium.webdriver.chrome.options import Options\n",
        "from selenium.webdriver.common.action_chains import ActionChains\n",
        "from selenium.webdriver.common.keys import Keys\n",
        "from selenium.webdriver.support.ui import WebDriverWait\n",
        "from selenium.webdriver.support import expected_conditions as EC\n",
        "from selenium.webdriver.support.ui import WebDriverWait\n",
        "from bs4 import BeautifulSoup\n",
        "from urllib.parse import parse_qs, urlparse, urlencode, urlunparse\n",
        "import requests"
      ],
      "metadata": {
        "id": "VI-sjQGbW7Uh"
      },
      "execution_count": 18,
      "outputs": []
    },
    {
      "cell_type": "markdown",
      "source": [
        "## Utilities"
      ],
      "metadata": {
        "id": "8hxJ8QZkWutf"
      }
    },
    {
      "cell_type": "code",
      "source": [
        "# Util to modify search page number in URL\n",
        "def update_search_page(url, new_search_page):\n",
        "    parsed_url = urlparse(url)                                                  # Parse the URL\n",
        "    query_params = parse_qs(parsed_url.query)                                   # Get the query parameters\n",
        "    query_params['search_page'] = [str(new_search_page)]                        # Update the search_page parameter\n",
        "    updated_query_string = urlencode(query_params, doseq=True)                  # Construct the updated query string\n",
        "    updated_url = urlunparse(parsed_url._replace(query=updated_query_string))   # Construct the updated URL\n",
        "    return updated_url"
      ],
      "metadata": {
        "id": "eY995reAWucb"
      },
      "execution_count": 14,
      "outputs": []
    },
    {
      "cell_type": "markdown",
      "source": [
        "## Scrape links from LibriVox.org"
      ],
      "metadata": {
        "id": "CP-X8w9BWOv3"
      }
    },
    {
      "cell_type": "code",
      "execution_count": null,
      "metadata": {
        "id": "lIYdn1woOS1n"
      },
      "outputs": [],
      "source": [
        "# Set up Selenium\n",
        "chrome_options = webdriver.ChromeOptions()\n",
        "chrome_options.add_argument('--headless')\n",
        "chrome_options.add_argument('--no-sandbox')\n",
        "chrome_options.headless = True\n",
        "\n",
        "# Instantiate webdriver\n",
        "links = []\n",
        "wd = webdriver.Chrome('chromedriver',options=chrome_options)\n",
        "url = 'https://librivox.org/search?primary_key=1&search_category=language&search_page=1&search_form=get_results' \n",
        "max_pages = 500\n",
        "\n",
        "# Iterate through search pages\n",
        "for i in tqdm(range(max_pages)):\n",
        "    time.sleep(rand.randint(5, 5000) / 1000.0)                                  # Sleep a few seconds to avoid exposure / DOSing the website\n",
        "    wd.get(url)                                                                 # GET request\n",
        "    WebDriverWait(wd, 10).until(\n",
        "        EC.presence_of_element_located((By.CSS_SELECTOR, '.download-btn')))     # Load the webpage and wait for JavaScript to execute\n",
        "    html = wd.page_source                                                       # Get the fully rendered HTML\n",
        "    soup = BeautifulSoup(html, 'html.parser')                                   # Parse the HTML with BeautifulSoup\n",
        "    download_links = soup.find_all('a')\n",
        "\n",
        "    # Pull links\n",
        "    for link in download_links:\n",
        "        href = link.get('href')\n",
        "        if href.endswith('.zip'):\n",
        "            links.append(href)\n",
        "\n",
        "    # Update URL\n",
        "    url = update_search_page(url,i+2)\n",
        "\n",
        "# Print list of links when done\n",
        "_ = [print(i) for i in links]\n",
        "\n",
        "# Close the Selenium WebDriver\n",
        "wd.quit()"
      ]
    },
    {
      "cell_type": "markdown",
      "source": [
        "## Save list of links"
      ],
      "metadata": {
        "id": "S31AsQ5vZm-f"
      }
    },
    {
      "cell_type": "code",
      "source": [
        "file_path = 'audiolinks.pickle'\n",
        "with open(file_path, 'wb') as file:\n",
        "    pickle.dump(links, file)"
      ],
      "metadata": {
        "id": "CgwS13_mnq8x"
      },
      "execution_count": 19,
      "outputs": []
    },
    {
      "cell_type": "markdown",
      "source": [
        "## Download, unzip and save mp3s"
      ],
      "metadata": {
        "id": "2xiodvhhaVMx"
      }
    },
    {
      "cell_type": "code",
      "source": [
        "# Create save folder\n",
        "output_directory = './mp3'\n",
        "if not os.path.exists(output_directory):\n",
        "    os.makedirs(output_directory)\n",
        "\n",
        "# Iterate through links\n",
        "for link in tqdm(links[(65):]):    \n",
        "    # Download the ZIP file\n",
        "    response = requests.get(link)\n",
        "    file_path = os.path.join(output_directory, os.path.basename(link))\n",
        "    \n",
        "    # Write the ZIP file to disk\n",
        "    with open(file_path, 'wb') as file:\n",
        "        file.write(response.content)\n",
        "\n",
        "    # Extract the ZIP file\n",
        "    with zipfile.ZipFile(file_path, 'r') as zip_ref:\n",
        "        zip_ref.extractall(output_directory)\n",
        "\n",
        "    # Delete the downloaded ZIP file\n",
        "    os.remove(file_path)"
      ],
      "metadata": {
        "colab": {
          "base_uri": "https://localhost:8080/",
          "height": 49,
          "referenced_widgets": [
            "d5bc226be46e481182d6e0b34894959f",
            "a5b19db42cc244699ff1d0b58b27ef33",
            "1172de8cfc6948b98e711c6dea61e682",
            "3ce4487ec37d4fe18c7dc36d0aca1e16",
            "8b840ca5595844388d967a2b54a97fe8",
            "043f3fdad8474f71ad6d41cd857494b2",
            "34d7d791d2f44f21808da86720f8f2bc",
            "0f23122920a84c8c95e3df47e65f6fc4",
            "55ba5d5bda7f4aee89efff328ee457af",
            "7c5a9094d44d472dbedb4e7450eb1208",
            "17dd64b5b413467ebc2565e1c7d73da8"
          ]
        },
        "id": "FEDV30kIatzc",
        "outputId": "409da656-68f9-4f58-da44-3ea2b8b706bd"
      },
      "execution_count": null,
      "outputs": [
        {
          "output_type": "display_data",
          "data": {
            "text/plain": [
              "  0%|          | 0/12241 [00:00<?, ?it/s]"
            ],
            "application/vnd.jupyter.widget-view+json": {
              "version_major": 2,
              "version_minor": 0,
              "model_id": "d5bc226be46e481182d6e0b34894959f"
            }
          },
          "metadata": {}
        }
      ]
    },
    {
      "cell_type": "code",
      "source": [],
      "metadata": {
        "id": "T0qQzc4Mn187"
      },
      "execution_count": 31,
      "outputs": []
    },
    {
      "cell_type": "code",
      "source": [],
      "metadata": {
        "id": "m-PR7haWn8gc"
      },
      "execution_count": null,
      "outputs": []
    }
  ],
  "metadata": {
    "colab": {
      "provenance": [],
      "include_colab_link": true
    },
    "kernelspec": {
      "display_name": "Python 3",
      "name": "python3"
    },
    "widgets": {
      "application/vnd.jupyter.widget-state+json": {
        "d5bc226be46e481182d6e0b34894959f": {
          "model_module": "@jupyter-widgets/controls",
          "model_name": "HBoxModel",
          "model_module_version": "1.5.0",
          "state": {
            "_dom_classes": [],
            "_model_module": "@jupyter-widgets/controls",
            "_model_module_version": "1.5.0",
            "_model_name": "HBoxModel",
            "_view_count": null,
            "_view_module": "@jupyter-widgets/controls",
            "_view_module_version": "1.5.0",
            "_view_name": "HBoxView",
            "box_style": "",
            "children": [
              "IPY_MODEL_a5b19db42cc244699ff1d0b58b27ef33",
              "IPY_MODEL_1172de8cfc6948b98e711c6dea61e682",
              "IPY_MODEL_3ce4487ec37d4fe18c7dc36d0aca1e16"
            ],
            "layout": "IPY_MODEL_8b840ca5595844388d967a2b54a97fe8"
          }
        },
        "a5b19db42cc244699ff1d0b58b27ef33": {
          "model_module": "@jupyter-widgets/controls",
          "model_name": "HTMLModel",
          "model_module_version": "1.5.0",
          "state": {
            "_dom_classes": [],
            "_model_module": "@jupyter-widgets/controls",
            "_model_module_version": "1.5.0",
            "_model_name": "HTMLModel",
            "_view_count": null,
            "_view_module": "@jupyter-widgets/controls",
            "_view_module_version": "1.5.0",
            "_view_name": "HTMLView",
            "description": "",
            "description_tooltip": null,
            "layout": "IPY_MODEL_043f3fdad8474f71ad6d41cd857494b2",
            "placeholder": "​",
            "style": "IPY_MODEL_34d7d791d2f44f21808da86720f8f2bc",
            "value": "  1%"
          }
        },
        "1172de8cfc6948b98e711c6dea61e682": {
          "model_module": "@jupyter-widgets/controls",
          "model_name": "FloatProgressModel",
          "model_module_version": "1.5.0",
          "state": {
            "_dom_classes": [],
            "_model_module": "@jupyter-widgets/controls",
            "_model_module_version": "1.5.0",
            "_model_name": "FloatProgressModel",
            "_view_count": null,
            "_view_module": "@jupyter-widgets/controls",
            "_view_module_version": "1.5.0",
            "_view_name": "ProgressView",
            "bar_style": "",
            "description": "",
            "description_tooltip": null,
            "layout": "IPY_MODEL_0f23122920a84c8c95e3df47e65f6fc4",
            "max": 12241,
            "min": 0,
            "orientation": "horizontal",
            "style": "IPY_MODEL_55ba5d5bda7f4aee89efff328ee457af",
            "value": 138
          }
        },
        "3ce4487ec37d4fe18c7dc36d0aca1e16": {
          "model_module": "@jupyter-widgets/controls",
          "model_name": "HTMLModel",
          "model_module_version": "1.5.0",
          "state": {
            "_dom_classes": [],
            "_model_module": "@jupyter-widgets/controls",
            "_model_module_version": "1.5.0",
            "_model_name": "HTMLModel",
            "_view_count": null,
            "_view_module": "@jupyter-widgets/controls",
            "_view_module_version": "1.5.0",
            "_view_name": "HTMLView",
            "description": "",
            "description_tooltip": null,
            "layout": "IPY_MODEL_7c5a9094d44d472dbedb4e7450eb1208",
            "placeholder": "​",
            "style": "IPY_MODEL_17dd64b5b413467ebc2565e1c7d73da8",
            "value": " 138/12241 [1:38:35&lt;100:12:48, 29.81s/it]"
          }
        },
        "8b840ca5595844388d967a2b54a97fe8": {
          "model_module": "@jupyter-widgets/base",
          "model_name": "LayoutModel",
          "model_module_version": "1.2.0",
          "state": {
            "_model_module": "@jupyter-widgets/base",
            "_model_module_version": "1.2.0",
            "_model_name": "LayoutModel",
            "_view_count": null,
            "_view_module": "@jupyter-widgets/base",
            "_view_module_version": "1.2.0",
            "_view_name": "LayoutView",
            "align_content": null,
            "align_items": null,
            "align_self": null,
            "border": null,
            "bottom": null,
            "display": null,
            "flex": null,
            "flex_flow": null,
            "grid_area": null,
            "grid_auto_columns": null,
            "grid_auto_flow": null,
            "grid_auto_rows": null,
            "grid_column": null,
            "grid_gap": null,
            "grid_row": null,
            "grid_template_areas": null,
            "grid_template_columns": null,
            "grid_template_rows": null,
            "height": null,
            "justify_content": null,
            "justify_items": null,
            "left": null,
            "margin": null,
            "max_height": null,
            "max_width": null,
            "min_height": null,
            "min_width": null,
            "object_fit": null,
            "object_position": null,
            "order": null,
            "overflow": null,
            "overflow_x": null,
            "overflow_y": null,
            "padding": null,
            "right": null,
            "top": null,
            "visibility": null,
            "width": null
          }
        },
        "043f3fdad8474f71ad6d41cd857494b2": {
          "model_module": "@jupyter-widgets/base",
          "model_name": "LayoutModel",
          "model_module_version": "1.2.0",
          "state": {
            "_model_module": "@jupyter-widgets/base",
            "_model_module_version": "1.2.0",
            "_model_name": "LayoutModel",
            "_view_count": null,
            "_view_module": "@jupyter-widgets/base",
            "_view_module_version": "1.2.0",
            "_view_name": "LayoutView",
            "align_content": null,
            "align_items": null,
            "align_self": null,
            "border": null,
            "bottom": null,
            "display": null,
            "flex": null,
            "flex_flow": null,
            "grid_area": null,
            "grid_auto_columns": null,
            "grid_auto_flow": null,
            "grid_auto_rows": null,
            "grid_column": null,
            "grid_gap": null,
            "grid_row": null,
            "grid_template_areas": null,
            "grid_template_columns": null,
            "grid_template_rows": null,
            "height": null,
            "justify_content": null,
            "justify_items": null,
            "left": null,
            "margin": null,
            "max_height": null,
            "max_width": null,
            "min_height": null,
            "min_width": null,
            "object_fit": null,
            "object_position": null,
            "order": null,
            "overflow": null,
            "overflow_x": null,
            "overflow_y": null,
            "padding": null,
            "right": null,
            "top": null,
            "visibility": null,
            "width": null
          }
        },
        "34d7d791d2f44f21808da86720f8f2bc": {
          "model_module": "@jupyter-widgets/controls",
          "model_name": "DescriptionStyleModel",
          "model_module_version": "1.5.0",
          "state": {
            "_model_module": "@jupyter-widgets/controls",
            "_model_module_version": "1.5.0",
            "_model_name": "DescriptionStyleModel",
            "_view_count": null,
            "_view_module": "@jupyter-widgets/base",
            "_view_module_version": "1.2.0",
            "_view_name": "StyleView",
            "description_width": ""
          }
        },
        "0f23122920a84c8c95e3df47e65f6fc4": {
          "model_module": "@jupyter-widgets/base",
          "model_name": "LayoutModel",
          "model_module_version": "1.2.0",
          "state": {
            "_model_module": "@jupyter-widgets/base",
            "_model_module_version": "1.2.0",
            "_model_name": "LayoutModel",
            "_view_count": null,
            "_view_module": "@jupyter-widgets/base",
            "_view_module_version": "1.2.0",
            "_view_name": "LayoutView",
            "align_content": null,
            "align_items": null,
            "align_self": null,
            "border": null,
            "bottom": null,
            "display": null,
            "flex": null,
            "flex_flow": null,
            "grid_area": null,
            "grid_auto_columns": null,
            "grid_auto_flow": null,
            "grid_auto_rows": null,
            "grid_column": null,
            "grid_gap": null,
            "grid_row": null,
            "grid_template_areas": null,
            "grid_template_columns": null,
            "grid_template_rows": null,
            "height": null,
            "justify_content": null,
            "justify_items": null,
            "left": null,
            "margin": null,
            "max_height": null,
            "max_width": null,
            "min_height": null,
            "min_width": null,
            "object_fit": null,
            "object_position": null,
            "order": null,
            "overflow": null,
            "overflow_x": null,
            "overflow_y": null,
            "padding": null,
            "right": null,
            "top": null,
            "visibility": null,
            "width": null
          }
        },
        "55ba5d5bda7f4aee89efff328ee457af": {
          "model_module": "@jupyter-widgets/controls",
          "model_name": "ProgressStyleModel",
          "model_module_version": "1.5.0",
          "state": {
            "_model_module": "@jupyter-widgets/controls",
            "_model_module_version": "1.5.0",
            "_model_name": "ProgressStyleModel",
            "_view_count": null,
            "_view_module": "@jupyter-widgets/base",
            "_view_module_version": "1.2.0",
            "_view_name": "StyleView",
            "bar_color": null,
            "description_width": ""
          }
        },
        "7c5a9094d44d472dbedb4e7450eb1208": {
          "model_module": "@jupyter-widgets/base",
          "model_name": "LayoutModel",
          "model_module_version": "1.2.0",
          "state": {
            "_model_module": "@jupyter-widgets/base",
            "_model_module_version": "1.2.0",
            "_model_name": "LayoutModel",
            "_view_count": null,
            "_view_module": "@jupyter-widgets/base",
            "_view_module_version": "1.2.0",
            "_view_name": "LayoutView",
            "align_content": null,
            "align_items": null,
            "align_self": null,
            "border": null,
            "bottom": null,
            "display": null,
            "flex": null,
            "flex_flow": null,
            "grid_area": null,
            "grid_auto_columns": null,
            "grid_auto_flow": null,
            "grid_auto_rows": null,
            "grid_column": null,
            "grid_gap": null,
            "grid_row": null,
            "grid_template_areas": null,
            "grid_template_columns": null,
            "grid_template_rows": null,
            "height": null,
            "justify_content": null,
            "justify_items": null,
            "left": null,
            "margin": null,
            "max_height": null,
            "max_width": null,
            "min_height": null,
            "min_width": null,
            "object_fit": null,
            "object_position": null,
            "order": null,
            "overflow": null,
            "overflow_x": null,
            "overflow_y": null,
            "padding": null,
            "right": null,
            "top": null,
            "visibility": null,
            "width": null
          }
        },
        "17dd64b5b413467ebc2565e1c7d73da8": {
          "model_module": "@jupyter-widgets/controls",
          "model_name": "DescriptionStyleModel",
          "model_module_version": "1.5.0",
          "state": {
            "_model_module": "@jupyter-widgets/controls",
            "_model_module_version": "1.5.0",
            "_model_name": "DescriptionStyleModel",
            "_view_count": null,
            "_view_module": "@jupyter-widgets/base",
            "_view_module_version": "1.2.0",
            "_view_name": "StyleView",
            "description_width": ""
          }
        }
      }
    }
  },
  "nbformat": 4,
  "nbformat_minor": 0
}